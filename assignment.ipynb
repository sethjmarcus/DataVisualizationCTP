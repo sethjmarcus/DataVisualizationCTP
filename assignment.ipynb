{
 "cells": [
  {
   "cell_type": "code",
   "execution_count": 47,
   "metadata": {},
   "outputs": [],
   "source": [
    "import pandas as pd\n",
    "import seaborn as sns\n",
    "import matplotlib.pyplot as plt\n",
    "import plotly.graph_objects as go"
   ]
  },
  {
   "cell_type": "code",
   "execution_count": 3,
   "metadata": {},
   "outputs": [],
   "source": [
    "budget_sample = pd.read_csv('./budget-sample.csv')\n",
    "bx_police = pd.read_csv('./BX-Police.csv')\n",
    "iris = pd.read_csv('./Iris.csv')\n",
    "sales = pd.read_csv('./Sales.csv')\n",
    "stocks = pd.read_csv('./Stocks.csv')"
   ]
  },
  {
   "cell_type": "markdown",
   "metadata": {},
   "source": [
    "### 1. Using Budget-Sample,  what percentage of total base salary is allocated to each borough? Which chart should you use and why? (you’re going to need a pivot table)"
   ]
  },
  {
   "cell_type": "code",
   "execution_count": 5,
   "metadata": {},
   "outputs": [
    {
     "data": {
      "text/plain": [
       "Index(['fiscal_year', 'payroll_number', 'agency_name', 'last_name',\n",
       "       'first_name', 'mid_init', 'agency_start_date', 'work_location_borough',\n",
       "       'title_description', 'leave_status_as_of_june_30', 'base_salary',\n",
       "       'pay_basis', 'regular_hours', 'regular_gross_paid', 'ot_hours',\n",
       "       'total_ot_paid', 'total_other_pay'],\n",
       "      dtype='object')"
      ]
     },
     "execution_count": 5,
     "metadata": {},
     "output_type": "execute_result"
    }
   ],
   "source": [
    "budget_sample.columns"
   ]
  },
  {
   "cell_type": "code",
   "execution_count": 60,
   "metadata": {},
   "outputs": [
    {
     "data": {
      "text/html": [
       "<div>\n",
       "<style scoped>\n",
       "    .dataframe tbody tr th:only-of-type {\n",
       "        vertical-align: middle;\n",
       "    }\n",
       "\n",
       "    .dataframe tbody tr th {\n",
       "        vertical-align: top;\n",
       "    }\n",
       "\n",
       "    .dataframe thead th {\n",
       "        text-align: right;\n",
       "    }\n",
       "</style>\n",
       "<table border=\"1\" class=\"dataframe\">\n",
       "  <thead>\n",
       "    <tr style=\"text-align: right;\">\n",
       "      <th></th>\n",
       "      <th>work_location_borough</th>\n",
       "      <th>fiscal_year</th>\n",
       "      <th>payroll_number</th>\n",
       "      <th>base_salary</th>\n",
       "      <th>regular_hours</th>\n",
       "      <th>regular_gross_paid</th>\n",
       "      <th>ot_hours</th>\n",
       "      <th>total_ot_paid</th>\n",
       "      <th>total_other_pay</th>\n",
       "    </tr>\n",
       "  </thead>\n",
       "  <tbody>\n",
       "    <tr>\n",
       "      <th>0</th>\n",
       "      <td>BRONX</td>\n",
       "      <td>2199780</td>\n",
       "      <td>337171</td>\n",
       "      <td>7.254209e+07</td>\n",
       "      <td>1976838.18</td>\n",
       "      <td>6.640231e+07</td>\n",
       "      <td>240566.24</td>\n",
       "      <td>9907712.80</td>\n",
       "      <td>7854870.78</td>\n",
       "    </tr>\n",
       "    <tr>\n",
       "      <th>1</th>\n",
       "      <td>BROOKLYN</td>\n",
       "      <td>4284420</td>\n",
       "      <td>626109</td>\n",
       "      <td>1.466351e+08</td>\n",
       "      <td>3709511.20</td>\n",
       "      <td>1.294597e+08</td>\n",
       "      <td>463152.91</td>\n",
       "      <td>20243652.86</td>\n",
       "      <td>16337379.30</td>\n",
       "    </tr>\n",
       "    <tr>\n",
       "      <th>2</th>\n",
       "      <td>MANHATTAN</td>\n",
       "      <td>22387660</td>\n",
       "      <td>6680301</td>\n",
       "      <td>8.738778e+08</td>\n",
       "      <td>7008025.90</td>\n",
       "      <td>7.384763e+08</td>\n",
       "      <td>631452.26</td>\n",
       "      <td>29121970.27</td>\n",
       "      <td>74892226.16</td>\n",
       "    </tr>\n",
       "    <tr>\n",
       "      <th>3</th>\n",
       "      <td>QUEENS</td>\n",
       "      <td>4781340</td>\n",
       "      <td>888334</td>\n",
       "      <td>1.695746e+08</td>\n",
       "      <td>4150461.27</td>\n",
       "      <td>1.533762e+08</td>\n",
       "      <td>453452.63</td>\n",
       "      <td>20030066.08</td>\n",
       "      <td>15606713.15</td>\n",
       "    </tr>\n",
       "  </tbody>\n",
       "</table>\n",
       "</div>"
      ],
      "text/plain": [
       "  work_location_borough  fiscal_year  payroll_number   base_salary  \\\n",
       "0                 BRONX      2199780          337171  7.254209e+07   \n",
       "1              BROOKLYN      4284420          626109  1.466351e+08   \n",
       "2             MANHATTAN     22387660         6680301  8.738778e+08   \n",
       "3                QUEENS      4781340          888334  1.695746e+08   \n",
       "\n",
       "   regular_hours  regular_gross_paid   ot_hours  total_ot_paid  \\\n",
       "0     1976838.18        6.640231e+07  240566.24     9907712.80   \n",
       "1     3709511.20        1.294597e+08  463152.91    20243652.86   \n",
       "2     7008025.90        7.384763e+08  631452.26    29121970.27   \n",
       "3     4150461.27        1.533762e+08  453452.63    20030066.08   \n",
       "\n",
       "   total_other_pay  \n",
       "0       7854870.78  \n",
       "1      16337379.30  \n",
       "2      74892226.16  \n",
       "3      15606713.15  "
      ]
     },
     "execution_count": 60,
     "metadata": {},
     "output_type": "execute_result"
    }
   ],
   "source": [
    "total_base_pay_grouped = budget_sample.groupby('work_location_borough', as_index=False).sum('base_salary')\n",
    "total_base_pay_grouped.head()"
   ]
  },
  {
   "cell_type": "code",
   "execution_count": 61,
   "metadata": {},
   "outputs": [
    {
     "data": {
      "image/png": "[encoded data removed]",
      "text/plain": [
       "<Figure size 432x288 with 1 Axes>"
      ]
     },
     "metadata": {},
     "output_type": "display_data"
    }
   ],
   "source": [
    "#boroughs = ['BRONX', 'BROOKLYN', 'MANHATTAN', 'QUEENS']\n",
    "plt.pie(total_base_pay_grouped['base_salary'], labels=total_base_pay_grouped['work_location_borough'], autopct='%.0f%%')\n",
    "plt.show()"
   ]
  },
  {
   "cell_type": "markdown",
   "metadata": {},
   "source": [
    "### 2. Using Budget-Sample, make a chart displaying the 5 highest and 5 lowest average base salaries based on title_description. What are they? Why did you choose to use the chart that you did?  (you’re going to need a pivot table)"
   ]
  },
  {
   "cell_type": "markdown",
   "metadata": {},
   "source": [
    "#### get 5 highest, 5 lowest, put them onto a bar chart"
   ]
  },
  {
   "cell_type": "markdown",
   "metadata": {},
   "source": [
    "### 3. Using the BX-Police data, create a time series chart illustrating their average base salary over time (by fiscal_year).  What trend does this show?  (you’re going to need a pivot table)"
   ]
  },
  {
   "cell_type": "code",
   "execution_count": 17,
   "metadata": {},
   "outputs": [
    {
     "data": {
      "text/html": [
       "<div>\n",
       "<style scoped>\n",
       "    .dataframe tbody tr th:only-of-type {\n",
       "        vertical-align: middle;\n",
       "    }\n",
       "\n",
       "    .dataframe tbody tr th {\n",
       "        vertical-align: top;\n",
       "    }\n",
       "\n",
       "    .dataframe thead th {\n",
       "        text-align: right;\n",
       "    }\n",
       "</style>\n",
       "<table border=\"1\" class=\"dataframe\">\n",
       "  <thead>\n",
       "    <tr style=\"text-align: right;\">\n",
       "      <th></th>\n",
       "      <th>fiscal_year</th>\n",
       "      <th>payroll_number</th>\n",
       "      <th>agency_name</th>\n",
       "      <th>last_name</th>\n",
       "      <th>first_name</th>\n",
       "      <th>mid_init</th>\n",
       "      <th>agency_start_date</th>\n",
       "      <th>work_location_borough</th>\n",
       "      <th>title_description</th>\n",
       "      <th>leave_status_as_of_june_30</th>\n",
       "      <th>base_salary</th>\n",
       "      <th>pay_basis</th>\n",
       "      <th>regular_hours</th>\n",
       "      <th>regular_gross_paid</th>\n",
       "      <th>ot_hours</th>\n",
       "      <th>total_ot_paid</th>\n",
       "      <th>total_other_pay</th>\n",
       "    </tr>\n",
       "  </thead>\n",
       "  <tbody>\n",
       "    <tr>\n",
       "      <th>0</th>\n",
       "      <td>2019</td>\n",
       "      <td>56.0</td>\n",
       "      <td>POLICE DEPARTMENT</td>\n",
       "      <td>GUZMAN</td>\n",
       "      <td>ALBERTO</td>\n",
       "      <td>NaN</td>\n",
       "      <td>07/05/2017</td>\n",
       "      <td>BRONX</td>\n",
       "      <td>POLICE OFFICER</td>\n",
       "      <td>ACTIVE</td>\n",
       "      <td>45000.0</td>\n",
       "      <td>per Annum</td>\n",
       "      <td>2040.00</td>\n",
       "      <td>43541.17</td>\n",
       "      <td>243.83</td>\n",
       "      <td>8597.10</td>\n",
       "      <td>3710.14</td>\n",
       "    </tr>\n",
       "    <tr>\n",
       "      <th>1</th>\n",
       "      <td>2015</td>\n",
       "      <td>NaN</td>\n",
       "      <td>POLICE DEPARTMENT</td>\n",
       "      <td>DERASMO</td>\n",
       "      <td>MARIELENA</td>\n",
       "      <td>NaN</td>\n",
       "      <td>07/06/2010</td>\n",
       "      <td>BRONX</td>\n",
       "      <td>POLICE OFFICER</td>\n",
       "      <td>ACTIVE</td>\n",
       "      <td>56609.0</td>\n",
       "      <td>per Annum</td>\n",
       "      <td>2085.72</td>\n",
       "      <td>54578.49</td>\n",
       "      <td>335.83</td>\n",
       "      <td>13344.33</td>\n",
       "      <td>4387.03</td>\n",
       "    </tr>\n",
       "    <tr>\n",
       "      <th>2</th>\n",
       "      <td>2018</td>\n",
       "      <td>56.0</td>\n",
       "      <td>POLICE DEPARTMENT</td>\n",
       "      <td>GARCES</td>\n",
       "      <td>MICHAEL</td>\n",
       "      <td>A</td>\n",
       "      <td>01/09/2013</td>\n",
       "      <td>BRONX</td>\n",
       "      <td>POLICE OFFICER</td>\n",
       "      <td>ACTIVE</td>\n",
       "      <td>63125.0</td>\n",
       "      <td>per Annum</td>\n",
       "      <td>2045.72</td>\n",
       "      <td>62809.14</td>\n",
       "      <td>145.00</td>\n",
       "      <td>7349.27</td>\n",
       "      <td>9801.34</td>\n",
       "    </tr>\n",
       "    <tr>\n",
       "      <th>3</th>\n",
       "      <td>2017</td>\n",
       "      <td>NaN</td>\n",
       "      <td>POLICE DEPARTMENT</td>\n",
       "      <td>ROSSI</td>\n",
       "      <td>THOMAS</td>\n",
       "      <td>C</td>\n",
       "      <td>01/06/2016</td>\n",
       "      <td>BRONX</td>\n",
       "      <td>POLICE OFFICER</td>\n",
       "      <td>ACTIVE</td>\n",
       "      <td>46805.0</td>\n",
       "      <td>per Annum</td>\n",
       "      <td>2051.43</td>\n",
       "      <td>49411.14</td>\n",
       "      <td>121.00</td>\n",
       "      <td>4213.27</td>\n",
       "      <td>6490.72</td>\n",
       "    </tr>\n",
       "    <tr>\n",
       "      <th>4</th>\n",
       "      <td>2019</td>\n",
       "      <td>56.0</td>\n",
       "      <td>POLICE DEPARTMENT</td>\n",
       "      <td>GARRETT</td>\n",
       "      <td>DENISE</td>\n",
       "      <td>NaN</td>\n",
       "      <td>05/30/2001</td>\n",
       "      <td>BRONX</td>\n",
       "      <td>SCHOOL SAFETY AGENT</td>\n",
       "      <td>ACTIVE</td>\n",
       "      <td>46737.0</td>\n",
       "      <td>per Annum</td>\n",
       "      <td>2040.00</td>\n",
       "      <td>46608.91</td>\n",
       "      <td>0.00</td>\n",
       "      <td>0.00</td>\n",
       "      <td>1202.56</td>\n",
       "    </tr>\n",
       "  </tbody>\n",
       "</table>\n",
       "</div>"
      ],
      "text/plain": [
       "   fiscal_year  payroll_number        agency_name last_name first_name  \\\n",
       "0         2019            56.0  POLICE DEPARTMENT    GUZMAN    ALBERTO   \n",
       "1         2015             NaN  POLICE DEPARTMENT   DERASMO  MARIELENA   \n",
       "2         2018            56.0  POLICE DEPARTMENT    GARCES    MICHAEL   \n",
       "3         2017             NaN  POLICE DEPARTMENT     ROSSI     THOMAS   \n",
       "4         2019            56.0  POLICE DEPARTMENT   GARRETT     DENISE   \n",
       "\n",
       "  mid_init agency_start_date work_location_borough    title_description  \\\n",
       "0      NaN        07/05/2017                 BRONX       POLICE OFFICER   \n",
       "1      NaN        07/06/2010                 BRONX       POLICE OFFICER   \n",
       "2        A        01/09/2013                 BRONX       POLICE OFFICER   \n",
       "3        C        01/06/2016                 BRONX       POLICE OFFICER   \n",
       "4      NaN        05/30/2001                 BRONX  SCHOOL SAFETY AGENT   \n",
       "\n",
       "  leave_status_as_of_june_30  base_salary  pay_basis  regular_hours  \\\n",
       "0                     ACTIVE      45000.0  per Annum        2040.00   \n",
       "1                     ACTIVE      56609.0  per Annum        2085.72   \n",
       "2                     ACTIVE      63125.0  per Annum        2045.72   \n",
       "3                     ACTIVE      46805.0  per Annum        2051.43   \n",
       "4                     ACTIVE      46737.0  per Annum        2040.00   \n",
       "\n",
       "   regular_gross_paid  ot_hours  total_ot_paid  total_other_pay  \n",
       "0            43541.17    243.83        8597.10          3710.14  \n",
       "1            54578.49    335.83       13344.33          4387.03  \n",
       "2            62809.14    145.00        7349.27          9801.34  \n",
       "3            49411.14    121.00        4213.27          6490.72  \n",
       "4            46608.91      0.00           0.00          1202.56  "
      ]
     },
     "execution_count": 17,
     "metadata": {},
     "output_type": "execute_result"
    }
   ],
   "source": [
    "bx_police.head()"
   ]
  },
  {
   "cell_type": "code",
   "execution_count": 21,
   "metadata": {},
   "outputs": [],
   "source": [
    "bx_grouped = bx_police.groupby('fiscal_year', as_index=False ).mean('base_salary')"
   ]
  },
  {
   "cell_type": "code",
   "execution_count": 22,
   "metadata": {},
   "outputs": [
    {
     "data": {
      "text/html": [
       "<div>\n",
       "<style scoped>\n",
       "    .dataframe tbody tr th:only-of-type {\n",
       "        vertical-align: middle;\n",
       "    }\n",
       "\n",
       "    .dataframe tbody tr th {\n",
       "        vertical-align: top;\n",
       "    }\n",
       "\n",
       "    .dataframe thead th {\n",
       "        text-align: right;\n",
       "    }\n",
       "</style>\n",
       "<table border=\"1\" class=\"dataframe\">\n",
       "  <thead>\n",
       "    <tr style=\"text-align: right;\">\n",
       "      <th></th>\n",
       "      <th>fiscal_year</th>\n",
       "      <th>payroll_number</th>\n",
       "      <th>base_salary</th>\n",
       "      <th>regular_hours</th>\n",
       "      <th>regular_gross_paid</th>\n",
       "      <th>ot_hours</th>\n",
       "      <th>total_ot_paid</th>\n",
       "      <th>total_other_pay</th>\n",
       "    </tr>\n",
       "  </thead>\n",
       "  <tbody>\n",
       "    <tr>\n",
       "      <th>0</th>\n",
       "      <td>2015</td>\n",
       "      <td>NaN</td>\n",
       "      <td>61299.402898</td>\n",
       "      <td>1968.227273</td>\n",
       "      <td>60316.627188</td>\n",
       "      <td>237.581023</td>\n",
       "      <td>12051.531761</td>\n",
       "      <td>8880.519858</td>\n",
       "    </tr>\n",
       "    <tr>\n",
       "      <th>1</th>\n",
       "      <td>2016</td>\n",
       "      <td>NaN</td>\n",
       "      <td>61601.310642</td>\n",
       "      <td>1964.351162</td>\n",
       "      <td>63311.521040</td>\n",
       "      <td>228.718165</td>\n",
       "      <td>12494.132171</td>\n",
       "      <td>9323.093456</td>\n",
       "    </tr>\n",
       "    <tr>\n",
       "      <th>2</th>\n",
       "      <td>2017</td>\n",
       "      <td>NaN</td>\n",
       "      <td>65231.981895</td>\n",
       "      <td>1945.976184</td>\n",
       "      <td>70180.858158</td>\n",
       "      <td>196.302605</td>\n",
       "      <td>12157.480053</td>\n",
       "      <td>9871.115658</td>\n",
       "    </tr>\n",
       "    <tr>\n",
       "      <th>3</th>\n",
       "      <td>2018</td>\n",
       "      <td>56.0</td>\n",
       "      <td>65147.201387</td>\n",
       "      <td>1963.620373</td>\n",
       "      <td>63991.954533</td>\n",
       "      <td>198.039333</td>\n",
       "      <td>11047.037387</td>\n",
       "      <td>8768.485147</td>\n",
       "    </tr>\n",
       "    <tr>\n",
       "      <th>4</th>\n",
       "      <td>2019</td>\n",
       "      <td>56.0</td>\n",
       "      <td>64427.547047</td>\n",
       "      <td>1903.762358</td>\n",
       "      <td>64052.372124</td>\n",
       "      <td>178.548756</td>\n",
       "      <td>10381.093290</td>\n",
       "      <td>8802.303187</td>\n",
       "    </tr>\n",
       "  </tbody>\n",
       "</table>\n",
       "</div>"
      ],
      "text/plain": [
       "   fiscal_year  payroll_number   base_salary  regular_hours  \\\n",
       "0         2015             NaN  61299.402898    1968.227273   \n",
       "1         2016             NaN  61601.310642    1964.351162   \n",
       "2         2017             NaN  65231.981895    1945.976184   \n",
       "3         2018            56.0  65147.201387    1963.620373   \n",
       "4         2019            56.0  64427.547047    1903.762358   \n",
       "\n",
       "   regular_gross_paid    ot_hours  total_ot_paid  total_other_pay  \n",
       "0        60316.627188  237.581023   12051.531761      8880.519858  \n",
       "1        63311.521040  228.718165   12494.132171      9323.093456  \n",
       "2        70180.858158  196.302605   12157.480053      9871.115658  \n",
       "3        63991.954533  198.039333   11047.037387      8768.485147  \n",
       "4        64052.372124  178.548756   10381.093290      8802.303187  "
      ]
     },
     "execution_count": 22,
     "metadata": {},
     "output_type": "execute_result"
    }
   ],
   "source": [
    "bx_grouped.head()"
   ]
  },
  {
   "cell_type": "code",
   "execution_count": 25,
   "metadata": {},
   "outputs": [
    {
     "data": {
      "image/png": "[encoded data removed]",
      "text/plain": [
       "<Figure size 432x288 with 1 Axes>"
      ]
     },
     "metadata": {
      "needs_background": "light"
     },
     "output_type": "display_data"
    }
   ],
   "source": [
    "sns.lineplot(x='fiscal_year', y='base_salary', data=bx_grouped)\n",
    "plt.title('stole this from stack overflow')\n",
    "plt.show()"
   ]
  },
  {
   "cell_type": "markdown",
   "metadata": {},
   "source": [
    "### 4. Using Budget-Sample, create a histogram of the base_salary column.  What does this tell you about the base salaries?"
   ]
  },
  {
   "cell_type": "code",
   "execution_count": 63,
   "metadata": {},
   "outputs": [
    {
     "data": {
      "text/plain": [
       "<matplotlib.axes._subplots.AxesSubplot at 0x7f516abee5b0>"
      ]
     },
     "execution_count": 63,
     "metadata": {},
     "output_type": "execute_result"
    },
    {
     "data": {
      "image/png": "[encoded data removed]",
      "text/plain": [
       "<Figure size 432x288 with 1 Axes>"
      ]
     },
     "metadata": {
      "needs_background": "light"
     },
     "output_type": "display_data"
    }
   ],
   "source": [
    "budget_sample['base_salary'].hist(bins=100, legend=True)"
   ]
  },
  {
   "cell_type": "markdown",
   "metadata": {},
   "source": [
    "#### what we see is that most people don't make that much (<=115,000)"
   ]
  },
  {
   "cell_type": "markdown",
   "metadata": {},
   "source": [
    "### 5. Using Stocks, tell me a story about the Google stock for the year. "
   ]
  },
  {
   "cell_type": "code",
   "execution_count": 68,
   "metadata": {},
   "outputs": [
    {
     "data": {
      "text/html": [
       "<div>\n",
       "<style scoped>\n",
       "    .dataframe tbody tr th:only-of-type {\n",
       "        vertical-align: middle;\n",
       "    }\n",
       "\n",
       "    .dataframe tbody tr th {\n",
       "        vertical-align: top;\n",
       "    }\n",
       "\n",
       "    .dataframe thead th {\n",
       "        text-align: right;\n",
       "    }\n",
       "</style>\n",
       "<table border=\"1\" class=\"dataframe\">\n",
       "  <thead>\n",
       "    <tr style=\"text-align: right;\">\n",
       "      <th></th>\n",
       "      <th>Date</th>\n",
       "      <th>Volume</th>\n",
       "      <th>High</th>\n",
       "      <th>Low</th>\n",
       "      <th>Open</th>\n",
       "      <th>Close</th>\n",
       "      <th>Adj Close</th>\n",
       "      <th>Ticker</th>\n",
       "    </tr>\n",
       "  </thead>\n",
       "  <tbody>\n",
       "    <tr>\n",
       "      <th>0</th>\n",
       "      <td>2021-01-04</td>\n",
       "      <td>1901900</td>\n",
       "      <td>1760.650024</td>\n",
       "      <td>1707.849976</td>\n",
       "      <td>1757.540039</td>\n",
       "      <td>1728.239990</td>\n",
       "      <td>1728.239990</td>\n",
       "      <td>GOOG</td>\n",
       "    </tr>\n",
       "    <tr>\n",
       "      <th>1</th>\n",
       "      <td>2021-01-05</td>\n",
       "      <td>1145300</td>\n",
       "      <td>1747.670044</td>\n",
       "      <td>1718.015015</td>\n",
       "      <td>1725.000000</td>\n",
       "      <td>1740.920044</td>\n",
       "      <td>1740.920044</td>\n",
       "      <td>GOOG</td>\n",
       "    </tr>\n",
       "    <tr>\n",
       "      <th>2</th>\n",
       "      <td>2021-01-06</td>\n",
       "      <td>2602100</td>\n",
       "      <td>1748.000000</td>\n",
       "      <td>1699.000000</td>\n",
       "      <td>1702.630005</td>\n",
       "      <td>1735.290039</td>\n",
       "      <td>1735.290039</td>\n",
       "      <td>GOOG</td>\n",
       "    </tr>\n",
       "    <tr>\n",
       "      <th>3</th>\n",
       "      <td>2021-01-07</td>\n",
       "      <td>2265000</td>\n",
       "      <td>1788.400024</td>\n",
       "      <td>1737.050049</td>\n",
       "      <td>1740.060059</td>\n",
       "      <td>1787.250000</td>\n",
       "      <td>1787.250000</td>\n",
       "      <td>GOOG</td>\n",
       "    </tr>\n",
       "    <tr>\n",
       "      <th>4</th>\n",
       "      <td>2021-01-08</td>\n",
       "      <td>2050600</td>\n",
       "      <td>1809.839966</td>\n",
       "      <td>1773.535034</td>\n",
       "      <td>1787.979980</td>\n",
       "      <td>1807.209961</td>\n",
       "      <td>1807.209961</td>\n",
       "      <td>GOOG</td>\n",
       "    </tr>\n",
       "  </tbody>\n",
       "</table>\n",
       "</div>"
      ],
      "text/plain": [
       "         Date   Volume         High          Low         Open        Close  \\\n",
       "0  2021-01-04  1901900  1760.650024  1707.849976  1757.540039  1728.239990   \n",
       "1  2021-01-05  1145300  1747.670044  1718.015015  1725.000000  1740.920044   \n",
       "2  2021-01-06  2602100  1748.000000  1699.000000  1702.630005  1735.290039   \n",
       "3  2021-01-07  2265000  1788.400024  1737.050049  1740.060059  1787.250000   \n",
       "4  2021-01-08  2050600  1809.839966  1773.535034  1787.979980  1807.209961   \n",
       "\n",
       "     Adj Close Ticker  \n",
       "0  1728.239990   GOOG  \n",
       "1  1740.920044   GOOG  \n",
       "2  1735.290039   GOOG  \n",
       "3  1787.250000   GOOG  \n",
       "4  1807.209961   GOOG  "
      ]
     },
     "execution_count": 68,
     "metadata": {},
     "output_type": "execute_result"
    }
   ],
   "source": [
    "stocks.head()"
   ]
  },
  {
   "cell_type": "code",
   "execution_count": 79,
   "metadata": {},
   "outputs": [],
   "source": [
    "import matplotlib.dates as md\n",
    "import matplotlib.pyplot as plt"
   ]
  },
  {
   "cell_type": "code",
   "execution_count": 80,
   "metadata": {},
   "outputs": [],
   "source": [
    "# get my custom date\n",
    "stocks['my_date'] = pd.to_datetime(stocks['Date'], format = '%Y-%m-%d')"
   ]
  },
  {
   "cell_type": "code",
   "execution_count": 88,
   "metadata": {},
   "outputs": [
    {
     "data": {
      "text/plain": [
       "Text(0, 0.5, 'Volume')"
      ]
     },
     "execution_count": 88,
     "metadata": {},
     "output_type": "execute_result"
    },
    {
     "data": {
      "image/png": "[encoded data removed]",
      "text/plain": [
       "<Figure size 1080x504 with 1 Axes>"
      ]
     },
     "metadata": {
      "needs_background": "light"
     },
     "output_type": "display_data"
    }
   ],
   "source": [
    "fig, ax = plt.subplots(figsize = (15, 7))\n",
    "# set up the plot\n",
    "sns.lineplot(ax = ax, x='my_date', y='Volume', data=stocks).set_title('Story about Google')\n",
    "\n",
    "# specify the position of the major ticks at the beginning of the week\n",
    "ax.xaxis.set_major_locator(md.MonthLocator(bymonthday= 1))\n",
    "# specify the format of the labels as 'year-month-day'\n",
    "ax.xaxis.set_major_formatter(md.DateFormatter('%Y-%m-%d'))\n",
    "# (optional) rotate by 90° the labels in order to improve their spacing\n",
    "plt.setp(ax.xaxis.get_majorticklabels(), rotation = 45)\n",
    "\n",
    "# specify the position of the minor ticks at each day\n",
    "ax.xaxis.set_minor_locator(md.DayLocator(interval = 1))\n",
    "\n",
    "# set ticks length\n",
    "ax.tick_params(axis = 'x', which = 'major', length = 10)\n",
    "ax.tick_params(axis = 'x', which = 'minor', length = 5)\n",
    "\n",
    "# set axes labels\n",
    "plt.xlabel('Date')\n",
    "plt.ylabel('Volume')"
   ]
  },
  {
   "cell_type": "markdown",
   "metadata": {},
   "source": [
    "### 6. Using Iris, make a bubble chart of the petal length vs petal width and bubble color based on class.  What does this tell you about the different classes?"
   ]
  },
  {
   "cell_type": "code",
   "execution_count": 52,
   "metadata": {},
   "outputs": [
    {
     "data": {
      "text/html": [
       "<div>\n",
       "<style scoped>\n",
       "    .dataframe tbody tr th:only-of-type {\n",
       "        vertical-align: middle;\n",
       "    }\n",
       "\n",
       "    .dataframe tbody tr th {\n",
       "        vertical-align: top;\n",
       "    }\n",
       "\n",
       "    .dataframe thead th {\n",
       "        text-align: right;\n",
       "    }\n",
       "</style>\n",
       "<table border=\"1\" class=\"dataframe\">\n",
       "  <thead>\n",
       "    <tr style=\"text-align: right;\">\n",
       "      <th></th>\n",
       "      <th>sepal_length</th>\n",
       "      <th>sepal_width</th>\n",
       "      <th>petal_length</th>\n",
       "      <th>petal_width</th>\n",
       "      <th>class</th>\n",
       "    </tr>\n",
       "  </thead>\n",
       "  <tbody>\n",
       "    <tr>\n",
       "      <th>0</th>\n",
       "      <td>5.1</td>\n",
       "      <td>3.5</td>\n",
       "      <td>1.4</td>\n",
       "      <td>0.2</td>\n",
       "      <td>Iris-setosa</td>\n",
       "    </tr>\n",
       "    <tr>\n",
       "      <th>1</th>\n",
       "      <td>4.9</td>\n",
       "      <td>3.0</td>\n",
       "      <td>1.4</td>\n",
       "      <td>0.2</td>\n",
       "      <td>Iris-setosa</td>\n",
       "    </tr>\n",
       "    <tr>\n",
       "      <th>2</th>\n",
       "      <td>4.7</td>\n",
       "      <td>3.2</td>\n",
       "      <td>1.3</td>\n",
       "      <td>0.2</td>\n",
       "      <td>Iris-setosa</td>\n",
       "    </tr>\n",
       "    <tr>\n",
       "      <th>3</th>\n",
       "      <td>4.6</td>\n",
       "      <td>3.1</td>\n",
       "      <td>1.5</td>\n",
       "      <td>0.2</td>\n",
       "      <td>Iris-setosa</td>\n",
       "    </tr>\n",
       "    <tr>\n",
       "      <th>4</th>\n",
       "      <td>5.0</td>\n",
       "      <td>3.6</td>\n",
       "      <td>1.4</td>\n",
       "      <td>0.2</td>\n",
       "      <td>Iris-setosa</td>\n",
       "    </tr>\n",
       "  </tbody>\n",
       "</table>\n",
       "</div>"
      ],
      "text/plain": [
       "   sepal_length  sepal_width  petal_length  petal_width        class\n",
       "0           5.1          3.5           1.4          0.2  Iris-setosa\n",
       "1           4.9          3.0           1.4          0.2  Iris-setosa\n",
       "2           4.7          3.2           1.3          0.2  Iris-setosa\n",
       "3           4.6          3.1           1.5          0.2  Iris-setosa\n",
       "4           5.0          3.6           1.4          0.2  Iris-setosa"
      ]
     },
     "execution_count": 52,
     "metadata": {},
     "output_type": "execute_result"
    }
   ],
   "source": [
    "iris.head()"
   ]
  },
  {
   "cell_type": "code",
   "execution_count": 90,
   "metadata": {},
   "outputs": [
    {
     "data": {
      "text/plain": [
       "<matplotlib.axes._subplots.AxesSubplot at 0x7f5166ae8130>"
      ]
     },
     "execution_count": 90,
     "metadata": {},
     "output_type": "execute_result"
    },
    {
     "data": {
      "image/png": "[encoded data removed]",
      "text/plain": [
       "<Figure size 432x288 with 1 Axes>"
      ]
     },
     "metadata": {
      "needs_background": "light"
     },
     "output_type": "display_data"
    }
   ],
   "source": [
    "sns.scatterplot(data=iris, x='petal_length', y='petal_width', hue='class', size='class', legend='brief')"
   ]
  },
  {
   "cell_type": "markdown",
   "metadata": {},
   "source": [
    "### 7. Using Sales, make a time series chart that shows the sales for each item over the past 12 months.  What does this tell you about the items.  Which item would you recommend they push more of and which item/s would you recommend they stop selling?"
   ]
  },
  {
   "cell_type": "code",
   "execution_count": 92,
   "metadata": {},
   "outputs": [
    {
     "data": {
      "text/html": [
       "<div>\n",
       "<style scoped>\n",
       "    .dataframe tbody tr th:only-of-type {\n",
       "        vertical-align: middle;\n",
       "    }\n",
       "\n",
       "    .dataframe tbody tr th {\n",
       "        vertical-align: top;\n",
       "    }\n",
       "\n",
       "    .dataframe thead th {\n",
       "        text-align: right;\n",
       "    }\n",
       "</style>\n",
       "<table border=\"1\" class=\"dataframe\">\n",
       "  <thead>\n",
       "    <tr style=\"text-align: right;\">\n",
       "      <th></th>\n",
       "      <th>month_number</th>\n",
       "      <th>facecream</th>\n",
       "      <th>facewash</th>\n",
       "      <th>toothpaste</th>\n",
       "      <th>bathingsoap</th>\n",
       "      <th>shampoo</th>\n",
       "      <th>moisturizer</th>\n",
       "    </tr>\n",
       "  </thead>\n",
       "  <tbody>\n",
       "    <tr>\n",
       "      <th>0</th>\n",
       "      <td>1</td>\n",
       "      <td>2500</td>\n",
       "      <td>1500</td>\n",
       "      <td>5200</td>\n",
       "      <td>9200</td>\n",
       "      <td>1200</td>\n",
       "      <td>1500</td>\n",
       "    </tr>\n",
       "    <tr>\n",
       "      <th>1</th>\n",
       "      <td>2</td>\n",
       "      <td>2630</td>\n",
       "      <td>1200</td>\n",
       "      <td>5100</td>\n",
       "      <td>6100</td>\n",
       "      <td>2100</td>\n",
       "      <td>1200</td>\n",
       "    </tr>\n",
       "    <tr>\n",
       "      <th>2</th>\n",
       "      <td>3</td>\n",
       "      <td>2140</td>\n",
       "      <td>1340</td>\n",
       "      <td>4550</td>\n",
       "      <td>9550</td>\n",
       "      <td>3550</td>\n",
       "      <td>1340</td>\n",
       "    </tr>\n",
       "    <tr>\n",
       "      <th>3</th>\n",
       "      <td>4</td>\n",
       "      <td>3400</td>\n",
       "      <td>1130</td>\n",
       "      <td>5870</td>\n",
       "      <td>8870</td>\n",
       "      <td>1870</td>\n",
       "      <td>1130</td>\n",
       "    </tr>\n",
       "    <tr>\n",
       "      <th>4</th>\n",
       "      <td>5</td>\n",
       "      <td>3600</td>\n",
       "      <td>1740</td>\n",
       "      <td>4560</td>\n",
       "      <td>7760</td>\n",
       "      <td>1560</td>\n",
       "      <td>1740</td>\n",
       "    </tr>\n",
       "  </tbody>\n",
       "</table>\n",
       "</div>"
      ],
      "text/plain": [
       "   month_number  facecream  facewash  toothpaste  bathingsoap  shampoo  \\\n",
       "0             1       2500      1500        5200         9200     1200   \n",
       "1             2       2630      1200        5100         6100     2100   \n",
       "2             3       2140      1340        4550         9550     3550   \n",
       "3             4       3400      1130        5870         8870     1870   \n",
       "4             5       3600      1740        4560         7760     1560   \n",
       "\n",
       "   moisturizer  \n",
       "0         1500  \n",
       "1         1200  \n",
       "2         1340  \n",
       "3         1130  \n",
       "4         1740  "
      ]
     },
     "execution_count": 92,
     "metadata": {},
     "output_type": "execute_result"
    }
   ],
   "source": [
    "sales.head()"
   ]
  }
 ],
 "metadata": {
  "interpreter": {
   "hash": "916dbcbb3f70747c44a77c7bcd40155683ae19c65e1c03b4aa3499c5328201f1"
  },
  "kernelspec": {
   "display_name": "Python 3.8.10 64-bit",
   "language": "python",
   "name": "python3"
  },
  "language_info": {
   "codemirror_mode": {
    "name": "ipython",
    "version": 3
   },
   "file_extension": ".py",
   "mimetype": "text/x-python",
   "name": "python",
   "nbconvert_exporter": "python",
   "pygments_lexer": "ipython3",
   "version": "3.8.10"
  },
  "orig_nbformat": 4
 },
 "nbformat": 4,
 "nbformat_minor": 2
}
